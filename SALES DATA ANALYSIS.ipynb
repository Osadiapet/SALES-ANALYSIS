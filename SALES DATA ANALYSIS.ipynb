{
 "cells": [
  {
   "cell_type": "markdown",
   "metadata": {},
   "source": [
    "SALES ANALYSIS"
   ]
  },
  {
   "cell_type": "code",
   "execution_count": 1,
   "metadata": {},
   "outputs": [],
   "source": [
    "import pandas as pd \n",
    "import numpy as np\n",
    "import seaborn as sns \n",
    "import matplotlib.pyplot as plt \n",
    "%matplotlib inline "
   ]
  },
  {
   "cell_type": "code",
   "execution_count": 2,
   "metadata": {},
   "outputs": [
    {
     "data": {
      "text/html": [
       "<div>\n",
       "<style scoped>\n",
       "    .dataframe tbody tr th:only-of-type {\n",
       "        vertical-align: middle;\n",
       "    }\n",
       "\n",
       "    .dataframe tbody tr th {\n",
       "        vertical-align: top;\n",
       "    }\n",
       "\n",
       "    .dataframe thead th {\n",
       "        text-align: right;\n",
       "    }\n",
       "</style>\n",
       "<table border=\"1\" class=\"dataframe\">\n",
       "  <thead>\n",
       "    <tr style=\"text-align: right;\">\n",
       "      <th></th>\n",
       "      <th>Region</th>\n",
       "      <th>Country</th>\n",
       "      <th>Item Type</th>\n",
       "      <th>Fiscal Year</th>\n",
       "      <th>Sales Channel</th>\n",
       "      <th>Order Priority</th>\n",
       "      <th>Order Date</th>\n",
       "      <th>Order ID</th>\n",
       "      <th>Ship Date</th>\n",
       "      <th>Units Sold</th>\n",
       "      <th>Unit Price</th>\n",
       "      <th>Unit Cost</th>\n",
       "      <th>Total Revenue</th>\n",
       "      <th>Total Cost</th>\n",
       "      <th>Total Profit</th>\n",
       "      <th>Profit as % of Cost</th>\n",
       "    </tr>\n",
       "  </thead>\n",
       "  <tbody>\n",
       "    <tr>\n",
       "      <th>0</th>\n",
       "      <td>Sub-Saharan Africa</td>\n",
       "      <td>Cote d'Ivoire</td>\n",
       "      <td>Snacks</td>\n",
       "      <td>2010</td>\n",
       "      <td>Online</td>\n",
       "      <td>C</td>\n",
       "      <td>4/23/10</td>\n",
       "      <td>241891753</td>\n",
       "      <td>4/26/10</td>\n",
       "      <td>10000</td>\n",
       "      <td>152.58</td>\n",
       "      <td>97.44</td>\n",
       "      <td>1525800.0</td>\n",
       "      <td>974400.0</td>\n",
       "      <td>551400.0</td>\n",
       "      <td>0.565887</td>\n",
       "    </tr>\n",
       "    <tr>\n",
       "      <th>1</th>\n",
       "      <td>Sub-Saharan Africa</td>\n",
       "      <td>Ethiopia</td>\n",
       "      <td>Snacks</td>\n",
       "      <td>2010</td>\n",
       "      <td>Online</td>\n",
       "      <td>H</td>\n",
       "      <td>6/6/10</td>\n",
       "      <td>530075585</td>\n",
       "      <td>7/1/10</td>\n",
       "      <td>10000</td>\n",
       "      <td>152.58</td>\n",
       "      <td>97.44</td>\n",
       "      <td>1525800.0</td>\n",
       "      <td>974400.0</td>\n",
       "      <td>551400.0</td>\n",
       "      <td>0.565887</td>\n",
       "    </tr>\n",
       "    <tr>\n",
       "      <th>2</th>\n",
       "      <td>Central America and the Caribbean</td>\n",
       "      <td>Panama</td>\n",
       "      <td>Clothes</td>\n",
       "      <td>2011</td>\n",
       "      <td>Offline</td>\n",
       "      <td>H</td>\n",
       "      <td>1/2/11</td>\n",
       "      <td>293357980</td>\n",
       "      <td>1/22/11</td>\n",
       "      <td>10000</td>\n",
       "      <td>109.28</td>\n",
       "      <td>35.84</td>\n",
       "      <td>1092800.0</td>\n",
       "      <td>358400.0</td>\n",
       "      <td>734400.0</td>\n",
       "      <td>2.049107</td>\n",
       "    </tr>\n",
       "    <tr>\n",
       "      <th>3</th>\n",
       "      <td>Europe</td>\n",
       "      <td>Sweden</td>\n",
       "      <td>Office Supplies</td>\n",
       "      <td>2012</td>\n",
       "      <td>Online</td>\n",
       "      <td>L</td>\n",
       "      <td>10/2/12</td>\n",
       "      <td>360841929</td>\n",
       "      <td>10/20/12</td>\n",
       "      <td>10000</td>\n",
       "      <td>651.21</td>\n",
       "      <td>524.96</td>\n",
       "      <td>6512100.0</td>\n",
       "      <td>5249600.0</td>\n",
       "      <td>1262500.0</td>\n",
       "      <td>0.240495</td>\n",
       "    </tr>\n",
       "    <tr>\n",
       "      <th>4</th>\n",
       "      <td>Europe</td>\n",
       "      <td>Romania</td>\n",
       "      <td>Cosmetics</td>\n",
       "      <td>2016</td>\n",
       "      <td>Online</td>\n",
       "      <td>M</td>\n",
       "      <td>3/16/16</td>\n",
       "      <td>707318103</td>\n",
       "      <td>5/3/16</td>\n",
       "      <td>10000</td>\n",
       "      <td>437.20</td>\n",
       "      <td>263.33</td>\n",
       "      <td>4372000.0</td>\n",
       "      <td>2633300.0</td>\n",
       "      <td>1738700.0</td>\n",
       "      <td>0.660274</td>\n",
       "    </tr>\n",
       "  </tbody>\n",
       "</table>\n",
       "</div>"
      ],
      "text/plain": [
       "                              Region        Country        Item Type  \\\n",
       "0                 Sub-Saharan Africa  Cote d'Ivoire           Snacks   \n",
       "1                 Sub-Saharan Africa       Ethiopia           Snacks   \n",
       "2  Central America and the Caribbean         Panama          Clothes   \n",
       "3                             Europe         Sweden  Office Supplies   \n",
       "4                             Europe        Romania        Cosmetics   \n",
       "\n",
       "   Fiscal Year Sales Channel Order Priority Order Date   Order ID Ship Date  \\\n",
       "0         2010        Online              C    4/23/10  241891753   4/26/10   \n",
       "1         2010        Online              H     6/6/10  530075585    7/1/10   \n",
       "2         2011       Offline              H     1/2/11  293357980   1/22/11   \n",
       "3         2012        Online              L    10/2/12  360841929  10/20/12   \n",
       "4         2016        Online              M    3/16/16  707318103    5/3/16   \n",
       "\n",
       "   Units Sold  Unit Price  Unit Cost  Total Revenue  Total Cost  Total Profit  \\\n",
       "0       10000      152.58      97.44      1525800.0    974400.0      551400.0   \n",
       "1       10000      152.58      97.44      1525800.0    974400.0      551400.0   \n",
       "2       10000      109.28      35.84      1092800.0    358400.0      734400.0   \n",
       "3       10000      651.21     524.96      6512100.0   5249600.0     1262500.0   \n",
       "4       10000      437.20     263.33      4372000.0   2633300.0     1738700.0   \n",
       "\n",
       "   Profit as % of Cost  \n",
       "0             0.565887  \n",
       "1             0.565887  \n",
       "2             2.049107  \n",
       "3             0.240495  \n",
       "4             0.660274  "
      ]
     },
     "execution_count": 2,
     "metadata": {},
     "output_type": "execute_result"
    }
   ],
   "source": [
    "#loading data\n",
    "data=pd.read_csv('Data Science Evaluation.csv')\n",
    "data.head()"
   ]
  },
  {
   "cell_type": "code",
   "execution_count": 3,
   "metadata": {},
   "outputs": [
    {
     "data": {
      "text/plain": [
       "(65535, 16)"
      ]
     },
     "execution_count": 3,
     "metadata": {},
     "output_type": "execute_result"
    }
   ],
   "source": [
    "data.shape"
   ]
  },
  {
   "cell_type": "code",
   "execution_count": 4,
   "metadata": {},
   "outputs": [
    {
     "data": {
      "text/plain": [
       "Index(['Region', 'Country', 'Item Type', 'Fiscal Year', 'Sales Channel',\n",
       "       'Order Priority', 'Order Date', 'Order ID', 'Ship Date', 'Units Sold',\n",
       "       'Unit Price', 'Unit Cost', 'Total Revenue', 'Total Cost',\n",
       "       'Total Profit', 'Profit as % of Cost'],\n",
       "      dtype='object')"
      ]
     },
     "execution_count": 4,
     "metadata": {},
     "output_type": "execute_result"
    }
   ],
   "source": [
    "data.columns "
   ]
  },
  {
   "cell_type": "code",
   "execution_count": 5,
   "metadata": {},
   "outputs": [
    {
     "data": {
      "text/plain": [
       "Region                 0\n",
       "Country                0\n",
       "Item Type              0\n",
       "Fiscal Year            0\n",
       "Sales Channel          0\n",
       "Order Priority         0\n",
       "Order Date             0\n",
       "Order ID               0\n",
       "Ship Date              0\n",
       "Units Sold             0\n",
       "Unit Price             0\n",
       "Unit Cost              0\n",
       "Total Revenue          0\n",
       "Total Cost             0\n",
       "Total Profit           0\n",
       "Profit as % of Cost    0\n",
       "dtype: int64"
      ]
     },
     "execution_count": 5,
     "metadata": {},
     "output_type": "execute_result"
    }
   ],
   "source": [
    "#checking for null values\n",
    "data.isnull().sum()"
   ]
  },
  {
   "cell_type": "code",
   "execution_count": 6,
   "metadata": {},
   "outputs": [
    {
     "name": "stdout",
     "output_type": "stream",
     "text": [
      "<class 'pandas.core.frame.DataFrame'>\n",
      "RangeIndex: 65535 entries, 0 to 65534\n",
      "Data columns (total 16 columns):\n",
      " #   Column               Non-Null Count  Dtype  \n",
      "---  ------               --------------  -----  \n",
      " 0   Region               65535 non-null  object \n",
      " 1   Country              65535 non-null  object \n",
      " 2   Item Type            65535 non-null  object \n",
      " 3   Fiscal Year          65535 non-null  int64  \n",
      " 4   Sales Channel        65535 non-null  object \n",
      " 5   Order Priority       65535 non-null  object \n",
      " 6   Order Date           65535 non-null  object \n",
      " 7   Order ID             65535 non-null  int64  \n",
      " 8   Ship Date            65535 non-null  object \n",
      " 9   Units Sold           65535 non-null  int64  \n",
      " 10  Unit Price           65535 non-null  float64\n",
      " 11  Unit Cost            65535 non-null  float64\n",
      " 12  Total Revenue        65535 non-null  float64\n",
      " 13  Total Cost           65535 non-null  float64\n",
      " 14  Total Profit         65535 non-null  float64\n",
      " 15  Profit as % of Cost  65535 non-null  float64\n",
      "dtypes: float64(6), int64(3), object(7)\n",
      "memory usage: 8.0+ MB\n"
     ]
    }
   ],
   "source": [
    "#view database information including shape, type and description name. etc\n",
    "data.info()"
   ]
  },
  {
   "cell_type": "code",
   "execution_count": 40,
   "metadata": {},
   "outputs": [
    {
     "data": {
      "text/plain": [
       "Region                          object\n",
       "Country                         object\n",
       "Item Type                       object\n",
       "Fiscal Year                      int64\n",
       "Sales Channel                   object\n",
       "Order Priority                  object\n",
       "Order Date              datetime64[ns]\n",
       "Order ID                         int64\n",
       "Ship Date               datetime64[ns]\n",
       "Units Sold                       int64\n",
       "Unit Price                     float64\n",
       "Unit Cost                      float64\n",
       "Total Revenue                  float64\n",
       "Total Cost                     float64\n",
       "Total Profit                   float64\n",
       "Profit as % of Cost            float64\n",
       "Days                   timedelta64[ns]\n",
       "dtype: object"
      ]
     },
     "execution_count": 40,
     "metadata": {},
     "output_type": "execute_result"
    }
   ],
   "source": [
    "##looking at the datatypes \n",
    "data.dtypes"
   ]
  },
  {
   "cell_type": "code",
   "execution_count": 7,
   "metadata": {},
   "outputs": [
    {
     "data": {
      "text/html": [
       "<div>\n",
       "<style scoped>\n",
       "    .dataframe tbody tr th:only-of-type {\n",
       "        vertical-align: middle;\n",
       "    }\n",
       "\n",
       "    .dataframe tbody tr th {\n",
       "        vertical-align: top;\n",
       "    }\n",
       "\n",
       "    .dataframe thead th {\n",
       "        text-align: right;\n",
       "    }\n",
       "</style>\n",
       "<table border=\"1\" class=\"dataframe\">\n",
       "  <thead>\n",
       "    <tr style=\"text-align: right;\">\n",
       "      <th></th>\n",
       "      <th>Fiscal Year</th>\n",
       "      <th>Order ID</th>\n",
       "      <th>Units Sold</th>\n",
       "      <th>Unit Price</th>\n",
       "      <th>Unit Cost</th>\n",
       "      <th>Total Revenue</th>\n",
       "      <th>Total Cost</th>\n",
       "      <th>Total Profit</th>\n",
       "      <th>Profit as % of Cost</th>\n",
       "    </tr>\n",
       "  </thead>\n",
       "  <tbody>\n",
       "    <tr>\n",
       "      <th>count</th>\n",
       "      <td>65535.000000</td>\n",
       "      <td>6.553500e+04</td>\n",
       "      <td>65535.000000</td>\n",
       "      <td>65535.000000</td>\n",
       "      <td>65535.000000</td>\n",
       "      <td>6.553500e+04</td>\n",
       "      <td>6.553500e+04</td>\n",
       "      <td>6.553500e+04</td>\n",
       "      <td>65535.000000</td>\n",
       "    </tr>\n",
       "    <tr>\n",
       "      <th>mean</th>\n",
       "      <td>2013.309560</td>\n",
       "      <td>5.529922e+08</td>\n",
       "      <td>4987.064500</td>\n",
       "      <td>266.192472</td>\n",
       "      <td>187.606190</td>\n",
       "      <td>1.326827e+06</td>\n",
       "      <td>9.350665e+05</td>\n",
       "      <td>3.917610e+05</td>\n",
       "      <td>0.610672</td>\n",
       "    </tr>\n",
       "    <tr>\n",
       "      <th>std</th>\n",
       "      <td>2.199086</td>\n",
       "      <td>2.605409e+08</td>\n",
       "      <td>2890.993357</td>\n",
       "      <td>216.999838</td>\n",
       "      <td>175.613364</td>\n",
       "      <td>1.466334e+06</td>\n",
       "      <td>1.146901e+06</td>\n",
       "      <td>3.784097e+05</td>\n",
       "      <td>0.466814</td>\n",
       "    </tr>\n",
       "    <tr>\n",
       "      <th>min</th>\n",
       "      <td>2010.000000</td>\n",
       "      <td>1.000149e+08</td>\n",
       "      <td>1.000000</td>\n",
       "      <td>9.330000</td>\n",
       "      <td>6.920000</td>\n",
       "      <td>3.732000e+01</td>\n",
       "      <td>2.768000e+01</td>\n",
       "      <td>9.640000e+00</td>\n",
       "      <td>0.156846</td>\n",
       "    </tr>\n",
       "    <tr>\n",
       "      <th>25%</th>\n",
       "      <td>2011.000000</td>\n",
       "      <td>3.267064e+08</td>\n",
       "      <td>2470.000000</td>\n",
       "      <td>81.730000</td>\n",
       "      <td>56.670000</td>\n",
       "      <td>2.764137e+05</td>\n",
       "      <td>1.626588e+05</td>\n",
       "      <td>9.566828e+04</td>\n",
       "      <td>0.348266</td>\n",
       "    </tr>\n",
       "    <tr>\n",
       "      <th>50%</th>\n",
       "      <td>2013.000000</td>\n",
       "      <td>5.521281e+08</td>\n",
       "      <td>4983.000000</td>\n",
       "      <td>205.700000</td>\n",
       "      <td>117.110000</td>\n",
       "      <td>7.873129e+05</td>\n",
       "      <td>4.659253e+05</td>\n",
       "      <td>2.809080e+05</td>\n",
       "      <td>0.565887</td>\n",
       "    </tr>\n",
       "    <tr>\n",
       "      <th>75%</th>\n",
       "      <td>2015.000000</td>\n",
       "      <td>7.786878e+08</td>\n",
       "      <td>7500.000000</td>\n",
       "      <td>437.200000</td>\n",
       "      <td>263.330000</td>\n",
       "      <td>1.810119e+06</td>\n",
       "      <td>1.197962e+06</td>\n",
       "      <td>5.632895e+05</td>\n",
       "      <td>0.660274</td>\n",
       "    </tr>\n",
       "    <tr>\n",
       "      <th>max</th>\n",
       "      <td>2017.000000</td>\n",
       "      <td>9.999939e+08</td>\n",
       "      <td>10000.000000</td>\n",
       "      <td>668.270000</td>\n",
       "      <td>524.960000</td>\n",
       "      <td>6.682032e+06</td>\n",
       "      <td>5.249600e+06</td>\n",
       "      <td>1.738700e+06</td>\n",
       "      <td>2.049107</td>\n",
       "    </tr>\n",
       "  </tbody>\n",
       "</table>\n",
       "</div>"
      ],
      "text/plain": [
       "        Fiscal Year      Order ID    Units Sold    Unit Price     Unit Cost  \\\n",
       "count  65535.000000  6.553500e+04  65535.000000  65535.000000  65535.000000   \n",
       "mean    2013.309560  5.529922e+08   4987.064500    266.192472    187.606190   \n",
       "std        2.199086  2.605409e+08   2890.993357    216.999838    175.613364   \n",
       "min     2010.000000  1.000149e+08      1.000000      9.330000      6.920000   \n",
       "25%     2011.000000  3.267064e+08   2470.000000     81.730000     56.670000   \n",
       "50%     2013.000000  5.521281e+08   4983.000000    205.700000    117.110000   \n",
       "75%     2015.000000  7.786878e+08   7500.000000    437.200000    263.330000   \n",
       "max     2017.000000  9.999939e+08  10000.000000    668.270000    524.960000   \n",
       "\n",
       "       Total Revenue    Total Cost  Total Profit  Profit as % of Cost  \n",
       "count   6.553500e+04  6.553500e+04  6.553500e+04         65535.000000  \n",
       "mean    1.326827e+06  9.350665e+05  3.917610e+05             0.610672  \n",
       "std     1.466334e+06  1.146901e+06  3.784097e+05             0.466814  \n",
       "min     3.732000e+01  2.768000e+01  9.640000e+00             0.156846  \n",
       "25%     2.764137e+05  1.626588e+05  9.566828e+04             0.348266  \n",
       "50%     7.873129e+05  4.659253e+05  2.809080e+05             0.565887  \n",
       "75%     1.810119e+06  1.197962e+06  5.632895e+05             0.660274  \n",
       "max     6.682032e+06  5.249600e+06  1.738700e+06             2.049107  "
      ]
     },
     "execution_count": 7,
     "metadata": {},
     "output_type": "execute_result"
    }
   ],
   "source": [
    "#staististical inference from the data \n",
    "data.describe()"
   ]
  },
  {
   "cell_type": "code",
   "execution_count": 8,
   "metadata": {},
   "outputs": [
    {
     "data": {
      "text/plain": [
       "Region                     7\n",
       "Country                  185\n",
       "Item Type                 12\n",
       "Fiscal Year                8\n",
       "Sales Channel              2\n",
       "Order Priority             4\n",
       "Order Date              2766\n",
       "Order ID               65535\n",
       "Ship Date               2813\n",
       "Units Sold              9990\n",
       "Unit Price                12\n",
       "Unit Cost                 12\n",
       "Total Revenue          50803\n",
       "Total Cost             50774\n",
       "Total Profit           50784\n",
       "Profit as % of Cost       12\n",
       "dtype: int64"
      ]
     },
     "execution_count": 8,
     "metadata": {},
     "output_type": "execute_result"
    }
   ],
   "source": [
    "##count the number of unique values for each of the descriptors \n",
    "data.nunique()"
   ]
  },
  {
   "cell_type": "code",
   "execution_count": 9,
   "metadata": {},
   "outputs": [
    {
     "data": {
      "text/plain": [
       "Item Type\n",
       "Cosmetics          4.730702e+09\n",
       "Household          4.529908e+09\n",
       "Office Supplies    3.455633e+09\n",
       "Baby Food          2.599625e+09\n",
       "Cereal             2.404806e+09\n",
       "Clothes            2.009799e+09\n",
       "Vegetables         1.721000e+09\n",
       "Meat               1.532258e+09\n",
       "Snacks             1.508197e+09\n",
       "Personal Care      6.876070e+08\n",
       "Beverages          4.293954e+08\n",
       "Fruits             6.512866e+07\n",
       "Name: Total Profit, dtype: float64"
      ]
     },
     "execution_count": 9,
     "metadata": {},
     "output_type": "execute_result"
    }
   ],
   "source": [
    "data.groupby('Item Type')['Total Profit'].sum().sort_values(ascending=False)"
   ]
  },
  {
   "cell_type": "code",
   "execution_count": 41,
   "metadata": {},
   "outputs": [
    {
     "data": {
      "image/png": "[encoded data removed]",
      "text/plain": [
       "<Figure size 432x288 with 1 Axes>"
      ]
     },
     "metadata": {
      "needs_background": "light"
     },
     "output_type": "display_data"
    }
   ],
   "source": [
    "plt.title('Total Profit of Each Product')\n",
    "data.groupby('Item Type')['Total Profit'].sum().sort_values(ascending=False).plot.bar()\n",
    "plt.ylabel('Total Profit')\n",
    "plt.show()"
   ]
  },
  {
   "cell_type": "markdown",
   "metadata": {},
   "source": [
    "From the chart, the products that should be dropped in the next year moving forward are Fruits, Beverages and Personal Care. However, products like Cosmetics, Household and Office Supplies should be sold more since the profits gained in these products are higher than the other products. Cosmetics, Households and Office Supplies each generated a total profit of 4,730,702,000.00, 4,529,908,000.00 and 3,455,633,000.00 respectively. Meanwhile product like Fruit generated less 6,512,866.00"
   ]
  },
  {
   "cell_type": "code",
   "execution_count": 11,
   "metadata": {},
   "outputs": [
    {
     "data": {
      "text/plain": [
       "Region\n",
       "Europe                               6.783846e+09\n",
       "Sub-Saharan Africa                   6.638568e+09\n",
       "Asia                                 3.723009e+09\n",
       "Middle East and North Africa         3.194428e+09\n",
       "Central America and the Caribbean    2.747683e+09\n",
       "Australia and Oceania                2.047147e+09\n",
       "North America                        5.393788e+08\n",
       "Name: Total Profit, dtype: float64"
      ]
     },
     "execution_count": 11,
     "metadata": {},
     "output_type": "execute_result"
    }
   ],
   "source": [
    "\n",
    "data.groupby('Region')['Total Profit'].sum().sort_values(ascending=False)"
   ]
  },
  {
   "cell_type": "code",
   "execution_count": 42,
   "metadata": {},
   "outputs": [
    {
     "data": {
      "image/png": "[encoded data removed]",
      "text/plain": [
       "<Figure size 432x288 with 1 Axes>"
      ]
     },
     "metadata": {
      "needs_background": "light"
     },
     "output_type": "display_data"
    }
   ],
   "source": [
    "plt.title('Total Profit By Region')\n",
    "data.groupby('Region')['Total Profit'].sum().sort_values(ascending=False).plot.bar(color='red')\n",
    "plt.ylabel('Total Profit')\n",
    "plt.show()"
   ]
  },
  {
   "cell_type": "code",
   "execution_count": 43,
   "metadata": {},
   "outputs": [
    {
     "data": {
      "image/png": "[encoded data removed]",
      "text/plain": [
       "<Figure size 432x288 with 1 Axes>"
      ]
     },
     "metadata": {
      "needs_background": "light"
     },
     "output_type": "display_data"
    }
   ],
   "source": [
    "plt.title('Profit as of Percent of Cost by Region')\n",
    "data.groupby('Region')['Profit as % of Cost'].sum().sort_values(ascending=False).plot.bar(color='red')\n",
    "plt.ylabel('Total Profit')\n",
    "plt.show()"
   ]
  },
  {
   "cell_type": "markdown",
   "metadata": {},
   "source": [
    "Yes, some regions should be given preference over others since some regions generate higher profit than others. Moving forward, regions like Europe and Sub-Suharan Africa should be given prefrence over the other regions since they generate huge profits. However regions like North America and Australia and Oceania  generates very little profit. "
   ]
  },
  {
   "cell_type": "code",
   "execution_count": 14,
   "metadata": {},
   "outputs": [
    {
     "name": "stderr",
     "output_type": "stream",
     "text": [
      "<ipython-input-14-eb3498973191>:1: FutureWarning: Indexing with multiple keys (implicitly converted to a tuple of keys) will be deprecated, use a list instead.\n",
      "  data.groupby('Region')['Item Type', 'Total Profit'].sum()\n"
     ]
    },
    {
     "data": {
      "text/html": [
       "<div>\n",
       "<style scoped>\n",
       "    .dataframe tbody tr th:only-of-type {\n",
       "        vertical-align: middle;\n",
       "    }\n",
       "\n",
       "    .dataframe tbody tr th {\n",
       "        vertical-align: top;\n",
       "    }\n",
       "\n",
       "    .dataframe thead th {\n",
       "        text-align: right;\n",
       "    }\n",
       "</style>\n",
       "<table border=\"1\" class=\"dataframe\">\n",
       "  <thead>\n",
       "    <tr style=\"text-align: right;\">\n",
       "      <th></th>\n",
       "      <th>Total Profit</th>\n",
       "    </tr>\n",
       "    <tr>\n",
       "      <th>Region</th>\n",
       "      <th></th>\n",
       "    </tr>\n",
       "  </thead>\n",
       "  <tbody>\n",
       "    <tr>\n",
       "      <th>Asia</th>\n",
       "      <td>3.723009e+09</td>\n",
       "    </tr>\n",
       "    <tr>\n",
       "      <th>Australia and Oceania</th>\n",
       "      <td>2.047147e+09</td>\n",
       "    </tr>\n",
       "    <tr>\n",
       "      <th>Central America and the Caribbean</th>\n",
       "      <td>2.747683e+09</td>\n",
       "    </tr>\n",
       "    <tr>\n",
       "      <th>Europe</th>\n",
       "      <td>6.783846e+09</td>\n",
       "    </tr>\n",
       "    <tr>\n",
       "      <th>Middle East and North Africa</th>\n",
       "      <td>3.194428e+09</td>\n",
       "    </tr>\n",
       "    <tr>\n",
       "      <th>North America</th>\n",
       "      <td>5.393788e+08</td>\n",
       "    </tr>\n",
       "    <tr>\n",
       "      <th>Sub-Saharan Africa</th>\n",
       "      <td>6.638568e+09</td>\n",
       "    </tr>\n",
       "  </tbody>\n",
       "</table>\n",
       "</div>"
      ],
      "text/plain": [
       "                                   Total Profit\n",
       "Region                                         \n",
       "Asia                               3.723009e+09\n",
       "Australia and Oceania              2.047147e+09\n",
       "Central America and the Caribbean  2.747683e+09\n",
       "Europe                             6.783846e+09\n",
       "Middle East and North Africa       3.194428e+09\n",
       "North America                      5.393788e+08\n",
       "Sub-Saharan Africa                 6.638568e+09"
      ]
     },
     "execution_count": 14,
     "metadata": {},
     "output_type": "execute_result"
    }
   ],
   "source": [
    "data.groupby('Region')['Item Type', 'Total Profit'].sum()"
   ]
  },
  {
   "cell_type": "markdown",
   "metadata": {},
   "source": [
    "EASY TO SELL PRODUCTS LOOKING AT THE SHIP DATE AND ORDER DATA"
   ]
  },
  {
   "cell_type": "code",
   "execution_count": 15,
   "metadata": {},
   "outputs": [],
   "source": [
    "#creating a date difference column \n",
    "import datetime \n",
    "data['Order Date']=pd.to_datetime(data['Order Date'])                                                     \n",
    "data['Ship Date']=pd.to_datetime(data['Ship Date'])\n",
    "data['Days']=data['Ship Date']-data['Order Date']"
   ]
  },
  {
   "cell_type": "code",
   "execution_count": 16,
   "metadata": {},
   "outputs": [
    {
     "data": {
      "text/plain": [
       "Item Type\n",
       "Meat               5409\n",
       "Clothes            5414\n",
       "Cereal             5425\n",
       "Fruits             5433\n",
       "Household          5456\n",
       "Vegetables         5456\n",
       "Office Supplies    5468\n",
       "Snacks             5477\n",
       "Personal Care      5491\n",
       "Beverages          5494\n",
       "Cosmetics          5502\n",
       "Baby Food          5510\n",
       "Name: Days, dtype: int64"
      ]
     },
     "execution_count": 16,
     "metadata": {},
     "output_type": "execute_result"
    }
   ],
   "source": [
    "data.groupby('Item Type')['Days'].count().sort_values(ascending=True)"
   ]
  },
  {
   "cell_type": "code",
   "execution_count": 45,
   "metadata": {},
   "outputs": [
    {
     "data": {
      "image/png": "[encoded data removed]",
      "text/plain": [
       "<Figure size 432x288 with 1 Axes>"
      ]
     },
     "metadata": {
      "needs_background": "light"
     },
     "output_type": "display_data"
    }
   ],
   "source": [
    "plt.title('Products and the Number of Days Between Order and Shipping Days')\n",
    "data.groupby('Item Type')['Days'].count().sort_values(ascending=True).plot.bar(color='orange')\n",
    "plt.ylabel('Number of Days Between Order Day and Shipping Day')\n",
    "plt.show()"
   ]
  },
  {
   "cell_type": "markdown",
   "metadata": {},
   "source": [
    "Looking at the items that are easier to sell by ship date and order date, Meat, Clothes, Cereals etc are easy to sell. Baby foods, Cosmetics and Beverages are not easy to sell since it takes longer days for these items to be shipped "
   ]
  },
  {
   "cell_type": "code",
   "execution_count": 44,
   "metadata": {},
   "outputs": [
    {
     "data": {
      "image/png": "[encoded data removed]",
      "text/plain": [
       "<Figure size 432x288 with 1 Axes>"
      ]
     },
     "metadata": {
      "needs_background": "light"
     },
     "output_type": "display_data"
    }
   ],
   "source": [
    "plt.title('Regions and the Number of Days Between Order and Shipping Days')\n",
    "data.groupby('Region')['Days'].count().sort_values(ascending=True).plot.bar(color='purple')\n",
    "plt.ylabel('Number of Days Between Order Day and Shipping Day')\n",
    "plt.show()"
   ]
  },
  {
   "cell_type": "markdown",
   "metadata": {},
   "source": [
    "products in North America are easy to sell compared to other regions by Order Date and Ship date. "
   ]
  },
  {
   "cell_type": "code",
   "execution_count": 56,
   "metadata": {},
   "outputs": [
    {
     "data": {
      "image/png": "[encoded data removed]",
      "text/plain": [
       "<Figure size 1080x432 with 1 Axes>"
      ]
     },
     "metadata": {
      "needs_background": "light"
     },
     "output_type": "display_data"
    }
   ],
   "source": [
    "plt.figure(figsize=(15,6))\n",
    "plt.title('Relationship Between Regions and Products')\n",
    "sns.countplot(data['Item Type'], hue=data['Region'])\n",
    "plt.xticks(rotation=90)\n",
    "plt.show()"
   ]
  },
  {
   "cell_type": "markdown",
   "metadata": {},
   "source": [
    "More products are sold in Sub-Saharan Africa and in Europe than the other regions.   "
   ]
  },
  {
   "cell_type": "markdown",
   "metadata": {},
   "source": [
    "CONCLUSION"
   ]
  },
  {
   "cell_type": "markdown",
   "metadata": {},
   "source": [
    "1. From the analysis, the products that should be dropped in the next year moving forward are Fruits, Beverages and Personal Care. However, products like Cosmetics, Household and Office Supplies should be sold more since the profits gained in these products are higher than the other products. Cosmetics, Households and Office Supplies each generated a total profit of 4,730,702,000.00, 4,529,908,000.00 and 3,455,633,000.00 respectively. Meanwhile product like Fruit generated less 6,512,866.00\n",
    "\n",
    "2. Looking at the items that are the easies to sell by ship date and order date, Meat, Clothes, Cereals etc are easy to sell. Baby foods, Cosmetics and Beverages are not easy to sell since it takes longer days for these items to be shipped However, products in North America are are the easiest to sell as compared to other regions looking at Order Date and Ship date. More products are sold in Sub-Saharan Africa and in Europe than the other regions. The proprtion of products sold in the regions are almost the same. There is no significance difference in the Item Type accross the regions.  "
   ]
  },
  {
   "cell_type": "code",
   "execution_count": null,
   "metadata": {},
   "outputs": [],
   "source": []
  }
 ],
 "metadata": {
  "kernelspec": {
   "display_name": "Python 3",
   "language": "python",
   "name": "python3"
  },
  "language_info": {
   "codemirror_mode": {
    "name": "ipython",
    "version": 3
   },
   "file_extension": ".py",
   "mimetype": "text/x-python",
   "name": "python",
   "nbconvert_exporter": "python",
   "pygments_lexer": "ipython3",
   "version": "3.8.3"
  }
 },
 "nbformat": 4,
 "nbformat_minor": 4
}
